{
 "cells": [
  {
   "cell_type": "code",
   "execution_count": 20,
   "metadata": {},
   "outputs": [],
   "source": [
    "import heapq\n",
    "\n",
    "# 우선순위 큐 활용\n",
    "def dijkstra(graph):\n",
    "    \n",
    "    nodes = graph.nodes\n",
    "    \n",
    "    # 시작 정점으로부터 최단거리를 저장할 딕셔너리 생성하고 무한대로 초기화\n",
    "    distances = [ [float('inf') for j in range(len(nodes))] for i in range(len(nodes))]\n",
    "    for i in range(len(nodes)):\n",
    "        distances[i][i] = 0    \n",
    "    \n",
    "    for n in nodes:\n",
    "        start = n\n",
    "        # 모든 정점들을 거리가 작은 순으로 저장할 우선순위 큐 생성\n",
    "        queue = []\n",
    "        heapq.heappush(queue, [distances[n][start], start])\n",
    "    \n",
    "        # 우선순위 큐에 정점이 없을 때 까지 반복\n",
    "        while queue:\n",
    "            current_distance, current_node = heapq.heappop(queue)\n",
    "            if distances[n][current_node] < current_distance:\n",
    "                continue\n",
    "                \n",
    "            for nei in graph.neighbors(n):\n",
    "            # 현재 정점까지 온 거리 + 다음 인접한 정점까지의 거리\n",
    "                distance = current_distance + graph[n][nei]['weight']\n",
    "                \n",
    "                # 인접한 정점까지의 거리가 시작정점에서 바로 갔을 때 보다 현재 정점을 거쳤을 때 더 가깝다면 거리 갱신\n",
    "                if distance < distances[n][nei]:\n",
    "                    distances[n][nei] = distance\n",
    "                    heapq.heappush(queue, [distance, nei])\n",
    "                    \n",
    "    return distances"
   ]
  },
  {
   "cell_type": "code",
   "execution_count": 12,
   "metadata": {},
   "outputs": [],
   "source": [
    "import numpy as np\n",
    "import pandas as pd\n",
    "import networkx as nx\n",
    "import random\n",
    "from networkx.generators.random_graphs import erdos_renyi_graph\n",
    "n = 6\n",
    "p = 0.5\n",
    "G = erdos_renyi_graph(n, p)\n",
    "\n",
    "#code creating G here\n",
    "for (u,v,w) in G.edges(data=True):\n",
    "    w['weight'] = random.random()\n",
    "    "
   ]
  },
  {
   "cell_type": "code",
   "execution_count": 21,
   "metadata": {},
   "outputs": [
    {
     "data": {
      "text/plain": [
       "[[0, 0.6796223824464424, inf, inf, 0.8999188914421686, inf],\n",
       " [0.6796223824464424, 0, inf, inf, 0.5280841791707791, 0.5148936769796736],\n",
       " [inf, inf, 0, inf, 0.43659554527378885, 0.8565891554831564],\n",
       " [inf, inf, inf, 0, inf, inf],\n",
       " [0.8999188914421686, 0.5280841791707791, 0.43659554527378885, inf, 0, inf],\n",
       " [inf, 0.5148936769796736, 0.8565891554831564, inf, inf, 0]]"
      ]
     },
     "execution_count": 21,
     "metadata": {},
     "output_type": "execute_result"
    }
   ],
   "source": [
    "dijkstra(G)"
   ]
  }
 ],
 "metadata": {
  "kernelspec": {
   "display_name": "Python 3.8.13 ('intern')",
   "language": "python",
   "name": "python3"
  },
  "language_info": {
   "codemirror_mode": {
    "name": "ipython",
    "version": 3
   },
   "file_extension": ".py",
   "mimetype": "text/x-python",
   "name": "python",
   "nbconvert_exporter": "python",
   "pygments_lexer": "ipython3",
   "version": "3.8.13"
  },
  "orig_nbformat": 4,
  "vscode": {
   "interpreter": {
    "hash": "f666b51e4c91b6d33cc19273ce20cae41340034cef2327fe5518cc0bbc8d0f33"
   }
  }
 },
 "nbformat": 4,
 "nbformat_minor": 2
}
