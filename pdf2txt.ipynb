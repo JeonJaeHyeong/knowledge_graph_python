{
 "cells": [
  {
   "cell_type": "code",
   "execution_count": 7,
   "metadata": {},
   "outputs": [
    {
     "name": "stdout",
     "output_type": "stream",
     "text": [
      "extracting files :  report_통계학연구원.pdf\n",
      "extracting files :  계열-정보-교과목-학과_광주광역시교육정보원.pdf\n",
      "extracting files :  교과목-정보-영역-핵심개념-내용-직업-학과_부산광역시교육청.pdf\n",
      "extracting files :  교과목-정보-영역-핵심개념-내용-직업-학과_서울특별시교육청교육연구정보원.pdf\n",
      "extracting files :  교과목-정보-영역-핵심개념-내용-직업-학과_세종특별자치시교육청.pdf\n",
      "extracting files :  미래엔_고등_미적분_01 수열의 극한.pdf\n",
      "extracting files :  미래엔_고등_미적분_02 여러 가지 함수의 미분.pdf\n",
      "extracting files :  미래엔_고등_미적분_03 여러 가지 미분법.pdf\n",
      "extracting files :  미래엔_고등_미적분_04 여러 가지 적분법.pdf\n",
      "extracting files :  미래엔_고등_사회문화.pdf\n",
      "extracting files :  시교육청_고등_경제수학.pdf\n",
      "extracting files :  전공영역-학과-교과목-내용_대구광역시교육청.pdf\n",
      "extracting files :  천재교육_고등_정치와법.pdf\n",
      "extracting files :  천재교육_고등_확률과통계_1단원.pdf\n",
      "extracting files :  천재교육_고등_확률과통계_2단원.pdf\n",
      "extracting files :  천재교육_고등_확률과통계_3단원.pdf\n",
      "extracting files :  학과-학과정보-직업-교과목_제주특별자치도교육청.pdf\n"
     ]
    }
   ],
   "source": [
    "\n",
    "import os, sys\n",
    "import aspose.words as aw\n",
    "import pdfplumber\n",
    "\n",
    "#initialize the path to your documents\n",
    "pdfPATH = './data/pdf/'\n",
    "txtPATH = './data/txt/KT/'\n",
    "\n",
    "                   \n",
    "# initialize lists for each document type\n",
    "pdf_files = []\n",
    "\n",
    "# append document names into the lists by their extension type\n",
    "for f in os.listdir(pdfPATH):\n",
    "  full_name = os.path.join(pdfPATH, f) \n",
    "  if os.path.isfile(full_name):\n",
    "    name = os.path.basename(f)\n",
    "    filename, ext = os.path.splitext(name)\n",
    "    if ext == '.pdf':\n",
    "      pdf_files.append(name)          \n",
    "          \n",
    "# This function converts pdf to images and then extracts text from images\n",
    "def pdf_extract(file):\n",
    "  print(\"extracting files : \", file)\n",
    "  pdf = pdfplumber.open(pdfPATH + file)\n",
    "  txts = []\n",
    "  for i in range(len(pdf.pages)):\n",
    "    text = pdf.pages[i].extract_text()\n",
    "    text = text.replace(\"\\n\", \" \")\n",
    "    txts.append(text)\n",
    "\n",
    "  with open(txtPATH + file[:-4] + \".txt\", 'w', encoding=\"utf8\") as f:\n",
    "    f.write(''.join(txts))\n",
    "\n",
    "# Run for-loop for each document in range of pdf_files list\n",
    "for i in range(len(pdf_files)):\n",
    "  pdf_file = pdf_files[i]\n",
    "  pdf_extract(pdf_file)"
   ]
  }
 ],
 "metadata": {
  "kernelspec": {
   "display_name": "intern",
   "language": "python",
   "name": "python3"
  },
  "language_info": {
   "codemirror_mode": {
    "name": "ipython",
    "version": 3
   },
   "file_extension": ".py",
   "mimetype": "text/x-python",
   "name": "python",
   "nbconvert_exporter": "python",
   "pygments_lexer": "ipython3",
   "version": "3.7.15"
  },
  "orig_nbformat": 4,
  "vscode": {
   "interpreter": {
    "hash": "4bda465b0c0f4373fd832dca9e07aed9239ae67d82371da6321f7ca13fbd16af"
   }
  }
 },
 "nbformat": 4,
 "nbformat_minor": 2
}
