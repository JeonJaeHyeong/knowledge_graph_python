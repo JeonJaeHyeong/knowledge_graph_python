{
 "cells": [
  {
   "cell_type": "code",
   "execution_count": 2,
   "metadata": {},
   "outputs": [],
   "source": [
    "from gensim import models\n",
    "\n",
    "ko_model = models.fasttext.load_facebook_model('data\\cc.ko.300.bin.gz')"
   ]
  },
  {
   "cell_type": "code",
   "execution_count": 5,
   "metadata": {},
   "outputs": [
    {
     "name": "stdout",
     "output_type": "stream",
     "text": [
      "'통계학자'과 '수학과'의 유사도: 0.202419251203537\n",
      "'통계학자'과 '통계학과'의 유사도: 0.3371712267398834\n"
     ]
    }
   ],
   "source": [
    "print(f\"'통계학자'과 '수학과'의 유사도: {ko_model.wv.similarity('통계학자', '수학과')}\")\n",
    "print(f\"'통계학자'과 '통계학과'의 유사도: {ko_model.wv.similarity('통계학자', '통계학과')}\")"
   ]
  },
  {
   "cell_type": "code",
   "execution_count": 7,
   "metadata": {},
   "outputs": [
    {
     "name": "stdout",
     "output_type": "stream",
     "text": [
      "'통계학자'과 '수학'의 유사도: 0.2961393892765045\n",
      "'통계학자'과 '과학'의 유사도: 0.27657562494277954\n",
      "'통계학자'과 '국어'의 유사도: 0.12160371989011765\n",
      "'통계학자'과 '영어'의 유사도: 0.2168227732181549\n",
      "'통계학자'과 '물리'의 유사도: 0.16661453247070312\n",
      "'통계학자'과 '화학'의 유사도: 0.1754308044910431\n",
      "'통계학자'과 '생물'의 유사도: 0.1562652587890625\n",
      "'통계학자'과 '지구과학'의 유사도: 0.14650700986385345\n"
     ]
    }
   ],
   "source": [
    "print(f\"'통계학자'과 '수학'의 유사도: {ko_model.wv.similarity('통계학자', '수학')}\")\n",
    "print(f\"'통계학자'과 '과학'의 유사도: {ko_model.wv.similarity('통계학자', '과학')}\")\n",
    "print(f\"'통계학자'과 '국어'의 유사도: {ko_model.wv.similarity('통계학자', '국어')}\")\n",
    "print(f\"'통계학자'과 '영어'의 유사도: {ko_model.wv.similarity('통계학자', '영어')}\")\n",
    "print(f\"'통계학자'과 '물리'의 유사도: {ko_model.wv.similarity('통계학자', '물리')}\")\n",
    "print(f\"'통계학자'과 '화학'의 유사도: {ko_model.wv.similarity('통계학자', '화학')}\")\n",
    "print(f\"'통계학자'과 '생물'의 유사도: {ko_model.wv.similarity('통계학자', '생물')}\")\n",
    "print(f\"'통계학자'과 '지구과학'의 유사도: {ko_model.wv.similarity('통계학자', '지구과학')}\")"
   ]
  },
  {
   "cell_type": "code",
   "execution_count": 10,
   "metadata": {},
   "outputs": [
    {
     "name": "stdout",
     "output_type": "stream",
     "text": [
      "'수학'과 '수학1'의 유사도: 0.4846792221069336\n",
      "'수학'과 '수학2'의 유사도: 0.5408124327659607\n",
      "'수학'과 '확률과통계'의 유사도: 0.3755800724029541\n",
      "'수학'과 '기하와벡터'의 유사도: 0.4500710964202881\n",
      "'수학'과 '미적분'의 유사도: 0.514738142490387\n",
      "'수학'과 '경제수학'의 유사도: 0.3866581916809082\n",
      "'수학'과 '심화수학'의 유사도: 0.1599159836769104\n",
      "'수학'과 '수학과제탐구'의 유사도: 0.010930471122264862\n"
     ]
    }
   ],
   "source": [
    "print(f\"'수학'과 '수학1'의 유사도: {ko_model.wv.similarity('수학', '수학1')}\")\n",
    "print(f\"'수학'과 '수학2'의 유사도: {ko_model.wv.similarity('수학', '수학2')}\")\n",
    "print(f\"'수학'과 '확률과통계'의 유사도: {ko_model.wv.similarity('수학', '확률과통계')}\")\n",
    "print(f\"'수학'과 '기하와벡터'의 유사도: {ko_model.wv.similarity('수학', '기하와벡터')}\")\n",
    "print(f\"'수학'과 '미적분'의 유사도: {ko_model.wv.similarity('수학', '미적분')}\")\n",
    "print(f\"'수학'과 '경제수학'의 유사도: {ko_model.wv.similarity('수학', '경제수학')}\")\n",
    "print(f\"'수학'과 '심화수학'의 유사도: {ko_model.wv.similarity('수학', '심화수학')}\")\n",
    "print(f\"'수학'과 '수학과제탐구'의 유사도: {ko_model.wv.similarity('수학', '수학과제탐구')}\")"
   ]
  },
  {
   "cell_type": "code",
   "execution_count": 12,
   "metadata": {},
   "outputs": [
    {
     "name": "stdout",
     "output_type": "stream",
     "text": [
      "'해석학'과 '수학1'의 유사도: 0.3153723180294037\n",
      "'해석학'과 '수학2'의 유사도: 0.3584596514701843\n",
      "'해석학'과 '확률과통계'의 유사도: 0.39684823155403137\n",
      "'해석학'과 '기하와벡터'의 유사도: 0.2916794419288635\n",
      "'해석학'과 '미적분'의 유사도: 0.40245237946510315\n"
     ]
    }
   ],
   "source": [
    "print(f\"'해석학'과 '수학1'의 유사도: {ko_model.wv.similarity('해석학', '수학1')}\")\n",
    "print(f\"'해석학'과 '수학2'의 유사도: {ko_model.wv.similarity('해석학', '수학2')}\")\n",
    "print(f\"'해석학'과 '확률과통계'의 유사도: {ko_model.wv.similarity('해석학', '확률과통계')}\")\n",
    "print(f\"'해석학'과 '기하와벡터'의 유사도: {ko_model.wv.similarity('해석학', '기하와벡터')}\")\n",
    "print(f\"'해석학'과 '미적분'의 유사도: {ko_model.wv.similarity('해석학', '미적분')}\")"
   ]
  }
 ],
 "metadata": {
  "kernelspec": {
   "display_name": "intern",
   "language": "python",
   "name": "python3"
  },
  "language_info": {
   "codemirror_mode": {
    "name": "ipython",
    "version": 3
   },
   "file_extension": ".py",
   "mimetype": "text/x-python",
   "name": "python",
   "nbconvert_exporter": "python",
   "pygments_lexer": "ipython3",
   "version": "3.7.15 (default, Nov 24 2022, 18:44:54) [MSC v.1916 64 bit (AMD64)]"
  },
  "orig_nbformat": 4,
  "vscode": {
   "interpreter": {
    "hash": "4bda465b0c0f4373fd832dca9e07aed9239ae67d82371da6321f7ca13fbd16af"
   }
  }
 },
 "nbformat": 4,
 "nbformat_minor": 2
}
