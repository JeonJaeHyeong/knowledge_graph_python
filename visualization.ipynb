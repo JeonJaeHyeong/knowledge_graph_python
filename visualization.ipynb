{
 "cells": [
  {
   "cell_type": "code",
   "execution_count": 1,
   "metadata": {},
   "outputs": [
    {
     "ename": "NameError",
     "evalue": "name 'dash' is not defined",
     "output_type": "error",
     "traceback": [
      "\u001b[1;31m---------------------------------------------------------------------------\u001b[0m",
      "\u001b[1;31mNameError\u001b[0m                                 Traceback (most recent call last)",
      "\u001b[1;32mc:\\Users\\ASUS\\Desktop\\KAIST\\KAIST\\개별연구\\2022가을랩인턴\\knowledge_graph_python\\visualization.ipynb 셀 1\u001b[0m in \u001b[0;36m<cell line: 11>\u001b[1;34m()\u001b[0m\n\u001b[0;32m      <a href='vscode-notebook-cell:/c%3A/Users/ASUS/Desktop/KAIST/KAIST/%EA%B0%9C%EB%B3%84%EC%97%B0%EA%B5%AC/2022%EA%B0%80%EC%9D%84%EB%9E%A9%EC%9D%B8%ED%84%B4/knowledge_graph_python/visualization.ipynb#W1sZmlsZQ%3D%3D?line=6'>7</a>\u001b[0m app \u001b[39m=\u001b[39m Dash(\u001b[39m__name__\u001b[39m)\n\u001b[0;32m      <a href='vscode-notebook-cell:/c%3A/Users/ASUS/Desktop/KAIST/KAIST/%EA%B0%9C%EB%B3%84%EC%97%B0%EA%B5%AC/2022%EA%B0%80%EC%9D%84%EB%9E%A9%EC%9D%B8%ED%84%B4/knowledge_graph_python/visualization.ipynb#W1sZmlsZQ%3D%3D?line=8'>9</a>\u001b[0m external_stylesheets \u001b[39m=\u001b[39m [\u001b[39m'\u001b[39m\u001b[39mhttps://codepen.io/chriddyp/pen/bWLwgP.css\u001b[39m\u001b[39m'\u001b[39m]\n\u001b[1;32m---> <a href='vscode-notebook-cell:/c%3A/Users/ASUS/Desktop/KAIST/KAIST/%EA%B0%9C%EB%B3%84%EC%97%B0%EA%B5%AC/2022%EA%B0%80%EC%9D%84%EB%9E%A9%EC%9D%B8%ED%84%B4/knowledge_graph_python/visualization.ipynb#W1sZmlsZQ%3D%3D?line=10'>11</a>\u001b[0m app \u001b[39m=\u001b[39m dash\u001b[39m.\u001b[39mDash(\u001b[39m__name__\u001b[39m, external_stylesheets\u001b[39m=\u001b[39mexternal_stylesheets)\n\u001b[0;32m     <a href='vscode-notebook-cell:/c%3A/Users/ASUS/Desktop/KAIST/KAIST/%EA%B0%9C%EB%B3%84%EC%97%B0%EA%B5%AC/2022%EA%B0%80%EC%9D%84%EB%9E%A9%EC%9D%B8%ED%84%B4/knowledge_graph_python/visualization.ipynb#W1sZmlsZQ%3D%3D?line=12'>13</a>\u001b[0m all_options \u001b[39m=\u001b[39m {\n\u001b[0;32m     <a href='vscode-notebook-cell:/c%3A/Users/ASUS/Desktop/KAIST/KAIST/%EA%B0%9C%EB%B3%84%EC%97%B0%EA%B5%AC/2022%EA%B0%80%EC%9D%84%EB%9E%A9%EC%9D%B8%ED%84%B4/knowledge_graph_python/visualization.ipynb#W1sZmlsZQ%3D%3D?line=13'>14</a>\u001b[0m     \u001b[39m'\u001b[39m\u001b[39mAmerica\u001b[39m\u001b[39m'\u001b[39m: [\u001b[39m'\u001b[39m\u001b[39mNew York City\u001b[39m\u001b[39m'\u001b[39m, \u001b[39m'\u001b[39m\u001b[39mSan Francisco\u001b[39m\u001b[39m'\u001b[39m, \u001b[39m'\u001b[39m\u001b[39mCincinnati\u001b[39m\u001b[39m'\u001b[39m],\n\u001b[0;32m     <a href='vscode-notebook-cell:/c%3A/Users/ASUS/Desktop/KAIST/KAIST/%EA%B0%9C%EB%B3%84%EC%97%B0%EA%B5%AC/2022%EA%B0%80%EC%9D%84%EB%9E%A9%EC%9D%B8%ED%84%B4/knowledge_graph_python/visualization.ipynb#W1sZmlsZQ%3D%3D?line=14'>15</a>\u001b[0m     \u001b[39m'\u001b[39m\u001b[39mCanada\u001b[39m\u001b[39m'\u001b[39m: [\u001b[39mu\u001b[39m\u001b[39m'\u001b[39m\u001b[39mMontréal\u001b[39m\u001b[39m'\u001b[39m, \u001b[39m'\u001b[39m\u001b[39mToronto\u001b[39m\u001b[39m'\u001b[39m, \u001b[39m'\u001b[39m\u001b[39mOttawa\u001b[39m\u001b[39m'\u001b[39m]\n\u001b[0;32m     <a href='vscode-notebook-cell:/c%3A/Users/ASUS/Desktop/KAIST/KAIST/%EA%B0%9C%EB%B3%84%EC%97%B0%EA%B5%AC/2022%EA%B0%80%EC%9D%84%EB%9E%A9%EC%9D%B8%ED%84%B4/knowledge_graph_python/visualization.ipynb#W1sZmlsZQ%3D%3D?line=15'>16</a>\u001b[0m }\n\u001b[0;32m     <a href='vscode-notebook-cell:/c%3A/Users/ASUS/Desktop/KAIST/KAIST/%EA%B0%9C%EB%B3%84%EC%97%B0%EA%B5%AC/2022%EA%B0%80%EC%9D%84%EB%9E%A9%EC%9D%B8%ED%84%B4/knowledge_graph_python/visualization.ipynb#W1sZmlsZQ%3D%3D?line=16'>17</a>\u001b[0m app\u001b[39m.\u001b[39mlayout \u001b[39m=\u001b[39m html\u001b[39m.\u001b[39mDiv([\n\u001b[0;32m     <a href='vscode-notebook-cell:/c%3A/Users/ASUS/Desktop/KAIST/KAIST/%EA%B0%9C%EB%B3%84%EC%97%B0%EA%B5%AC/2022%EA%B0%80%EC%9D%84%EB%9E%A9%EC%9D%B8%ED%84%B4/knowledge_graph_python/visualization.ipynb#W1sZmlsZQ%3D%3D?line=17'>18</a>\u001b[0m     dcc\u001b[39m.\u001b[39mRadioItems(\n\u001b[0;32m     <a href='vscode-notebook-cell:/c%3A/Users/ASUS/Desktop/KAIST/KAIST/%EA%B0%9C%EB%B3%84%EC%97%B0%EA%B5%AC/2022%EA%B0%80%EC%9D%84%EB%9E%A9%EC%9D%B8%ED%84%B4/knowledge_graph_python/visualization.ipynb#W1sZmlsZQ%3D%3D?line=18'>19</a>\u001b[0m         \u001b[39mid\u001b[39m\u001b[39m=\u001b[39m\u001b[39m'\u001b[39m\u001b[39mcountries-radio\u001b[39m\u001b[39m'\u001b[39m,\n\u001b[1;32m   (...)\u001b[0m\n\u001b[0;32m     <a href='vscode-notebook-cell:/c%3A/Users/ASUS/Desktop/KAIST/KAIST/%EA%B0%9C%EB%B3%84%EC%97%B0%EA%B5%AC/2022%EA%B0%80%EC%9D%84%EB%9E%A9%EC%9D%B8%ED%84%B4/knowledge_graph_python/visualization.ipynb#W1sZmlsZQ%3D%3D?line=29'>30</a>\u001b[0m     html\u001b[39m.\u001b[39mDiv(\u001b[39mid\u001b[39m\u001b[39m=\u001b[39m\u001b[39m'\u001b[39m\u001b[39mdisplay-selected-values\u001b[39m\u001b[39m'\u001b[39m)\n\u001b[0;32m     <a href='vscode-notebook-cell:/c%3A/Users/ASUS/Desktop/KAIST/KAIST/%EA%B0%9C%EB%B3%84%EC%97%B0%EA%B5%AC/2022%EA%B0%80%EC%9D%84%EB%9E%A9%EC%9D%B8%ED%84%B4/knowledge_graph_python/visualization.ipynb#W1sZmlsZQ%3D%3D?line=30'>31</a>\u001b[0m ])\n",
      "\u001b[1;31mNameError\u001b[0m: name 'dash' is not defined"
     ]
    }
   ],
   "source": [
    "import graph\n",
    "import json\n",
    "\n",
    "from dash import Dash, html, Input, Output\n",
    "import dash_cytoscape as cyto\n",
    "\n",
    "app = Dash(__name__)\n",
    "\n",
    "external_stylesheets = ['https://codepen.io/chriddyp/pen/bWLwgP.css']\n",
    "\n",
    "app = dash.Dash(__name__, external_stylesheets=external_stylesheets)\n",
    "\n",
    "all_options = {\n",
    "    'America': ['New York City', 'San Francisco', 'Cincinnati'],\n",
    "    'Canada': [u'Montréal', 'Toronto', 'Ottawa']\n",
    "}\n",
    "app.layout = html.Div([\n",
    "    dcc.RadioItems(\n",
    "        id='countries-radio',\n",
    "        options=[{'label': k, 'value': k} for k in all_options.keys()],\n",
    "        value='America'\n",
    "    ),\n",
    "\n",
    "    html.Hr(),\n",
    "\n",
    "    dcc.RadioItems(id='cities-radio'),\n",
    "\n",
    "    html.Hr(),\n",
    "\n",
    "    html.Div(id='display-selected-values')\n",
    "])\n",
    "\n",
    "\n",
    "@app.callback(\n",
    "    Output('cities-radio', 'options'),\n",
    "    Input('countries-radio', 'value'))\n",
    "def set_cities_options(selected_country):\n",
    "    return [{'label': i, 'value': i} for i in all_options[selected_country]]\n",
    "\n",
    "\n",
    "@app.callback(\n",
    "    Output('cities-radio', 'value'),\n",
    "    Input('cities-radio', 'options'))\n",
    "def set_cities_value(available_options):\n",
    "    return available_options[0]['value']\n",
    "\n",
    "\n",
    "@app.callback(\n",
    "    Output('display-selected-values', 'children'),\n",
    "    Input('countries-radio', 'value'),\n",
    "    Input('cities-radio', 'value'))\n",
    "def set_display_children(selected_country, selected_city):\n",
    "    return '{} is a city in {}'.format(\n",
    "        selected_city, selected_country,\n",
    "    )\n",
    "\n",
    "\n",
    "if __name__ == '__main__':\n",
    "    app.run_server(debug=True)"
   ]
  }
 ],
 "metadata": {
  "kernelspec": {
   "display_name": "Python 3.8.13 ('intern')",
   "language": "python",
   "name": "python3"
  },
  "language_info": {
   "codemirror_mode": {
    "name": "ipython",
    "version": 3
   },
   "file_extension": ".py",
   "mimetype": "text/x-python",
   "name": "python",
   "nbconvert_exporter": "python",
   "pygments_lexer": "ipython3",
   "version": "3.8.13"
  },
  "orig_nbformat": 4,
  "vscode": {
   "interpreter": {
    "hash": "f666b51e4c91b6d33cc19273ce20cae41340034cef2327fe5518cc0bbc8d0f33"
   }
  }
 },
 "nbformat": 4,
 "nbformat_minor": 2
}
