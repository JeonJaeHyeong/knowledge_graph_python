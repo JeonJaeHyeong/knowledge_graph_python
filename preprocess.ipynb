{
 "cells": [
  {
   "cell_type": "code",
   "execution_count": 59,
   "metadata": {},
   "outputs": [],
   "source": [
    "import load_data as ld\n",
    "import numpy as np\n",
    "import pandas as pd\n",
    "from eunjeon import Mecab\n",
    "from soynlp.normalizer import *\n",
    "from sklearn.feature_extraction.text import CountVectorizer\n",
    "import re   \n",
    "\n",
    "def clean_text(paragraph):\n",
    "    txt = re.sub('[-=+,#/\\?:^.@*\\\"※~ㆍ!』‘|\\(\\)\\[\\]`\\'…》\\”\\“\\’·]', ' ', paragraph)\n",
    "    txt = only_text(txt)\n",
    "    return txt\n",
    "\n",
    "def get_nouns(paragraph):\n",
    "    tagger = Mecab()\n",
    "    nouns_list = tagger.nouns(paragraph)\n",
    "    nouns_str = ' '.join(nouns_list)\n",
    "    return nouns_str\n",
    "\n",
    "def cal_tfidf(paragraphs):\n",
    "    vectorizer = CountVectorizer()\n",
    "    dtm = vectorizer.fit_transform(paragraphs)  # Document Term Matrix\n",
    "    \n",
    "    tf = pd.DataFrame(dtm.toarray(), columns = vectorizer.get_feature_names())  # Term Freqeuncy\n",
    "    df = tf.astype(bool).sum(axis = 0)  # Document Frequency \n",
    "\n",
    "    D = len(tf)         # 문서 개수\n",
    "    idf = np.log((D+1) / (df+1)) + 1    # Inverse Document Frequency\n",
    "    \n",
    "    # TF-IDF\n",
    "    tfidf = tf * idf                      \n",
    "    tfidf = tfidf / np.linalg.norm(tfidf, axis = 1, keepdims = True)\n",
    "    \n",
    "    # change the form of dataframe\n",
    "    tfidf = tfidf.T\n",
    "    tfidf.columns = ['tfidf']\n",
    "    return tfidf.sort_values(by='tfidf')\n",
    "\n",
    "def preprocessing(paragraphs):\n",
    "    clean_paras = list(map(clean_text, paragraphs))\n",
    "    nouns_paras = list(map(get_nouns, clean_paras)) \n",
    "    tfidf = cal_tfidf(nouns_paras)\n",
    "    return nouns_paras, tfidf\n",
    "    "
   ]
  },
  {
   "cell_type": "code",
   "execution_count": 44,
   "metadata": {},
   "outputs": [],
   "source": [
    "paragraphs = ld.read_txt(\"감초.txt\")     # [ 문단1, 문단2, ...]"
   ]
  },
  {
   "cell_type": "code",
   "execution_count": 48,
   "metadata": {},
   "outputs": [],
   "source": [
    "clean_paras = list(map(clean_text, paragraphs))\n",
    "nouns_paras = list(map(get_nouns, clean_paras))"
   ]
  },
  {
   "cell_type": "code",
   "execution_count": 60,
   "metadata": {},
   "outputs": [
    {
     "name": "stderr",
     "output_type": "stream",
     "text": [
      "c:\\Users\\ASUS\\anaconda3\\envs\\intern\\lib\\site-packages\\sklearn\\utils\\deprecation.py:87: FutureWarning: Function get_feature_names is deprecated; get_feature_names is deprecated in 1.0 and will be removed in 1.2. Please use get_feature_names_out instead.\n",
      "  warnings.warn(msg, category=FutureWarning)\n"
     ]
    }
   ],
   "source": [
    "tfidf = cal_tfidf(nouns_paras)"
   ]
  }
 ],
 "metadata": {
  "kernelspec": {
   "display_name": "Python 3.8.13 ('intern')",
   "language": "python",
   "name": "python3"
  },
  "language_info": {
   "codemirror_mode": {
    "name": "ipython",
    "version": 3
   },
   "file_extension": ".py",
   "mimetype": "text/x-python",
   "name": "python",
   "nbconvert_exporter": "python",
   "pygments_lexer": "ipython3",
   "version": "3.8.13"
  },
  "orig_nbformat": 4,
  "vscode": {
   "interpreter": {
    "hash": "f666b51e4c91b6d33cc19273ce20cae41340034cef2327fe5518cc0bbc8d0f33"
   }
  }
 },
 "nbformat": 4,
 "nbformat_minor": 2
}
