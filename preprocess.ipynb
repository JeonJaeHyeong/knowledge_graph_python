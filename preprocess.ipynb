{
 "cells": [
  {
   "cell_type": "code",
   "execution_count": 20,
   "metadata": {},
   "outputs": [],
   "source": [
    "import load_data as ld\n",
    "import numpy as np\n",
    "import pandas as pd\n",
    "from eunjeon import Mecab\n",
    "from soynlp.normalizer import *\n",
    "from sklearn.feature_extraction.text import CountVectorizer\n",
    "import re   \n",
    "\n",
    "def clean_text(str):\n",
    "    txt = re.sub('[-=+,#/\\?:^@*\\\"※~ㆍ!』‘|\\(\\)\\[\\]`\\'…》\\”\\“\\’·]', ' ', str)\n",
    "    txt = only_text(txt)\n",
    "    return txt\n",
    "\n",
    "def get_nouns(str):   # 형용사 등도 이용할 수 있도록\n",
    "    tagger = Mecab()\n",
    "    nouns_list = tagger.nouns(str)\n",
    "    nouns_str = ' '.join(nouns_list)\n",
    "    return nouns_str\n",
    "\n",
    "def get_stcs_nouns(ListOfSentence):\n",
    "    return list(map(get_nouns, ListOfSentence))\n",
    "    \n",
    "\n",
    "def para2stcs(paragraph):\n",
    "    return paragraph.split('. ')\n",
    "\n",
    "def cal_tfidf(paragraphs):  # TF-IDF뿐만 아니라 textrank 등도 이용할 수 있도록\n",
    "    vectorizer = CountVectorizer()\n",
    "    dtm = vectorizer.fit_transform(paragraphs)  # Document Term Matrix\n",
    "    \n",
    "    tf = pd.DataFrame(dtm.toarray(), columns = vectorizer.get_feature_names())  # Term Freqeuncy\n",
    "    df = tf.astype(bool).sum(axis = 0)  # Document Frequency \n",
    "\n",
    "    D = len(tf)         # 문서 개수\n",
    "    idf = np.log((D+1) / (df+1)) + 1    # Inverse Document Frequency\n",
    "    \n",
    "    # TF-IDF\n",
    "    tfidf = tf * idf                      \n",
    "    tfidf = tfidf / np.linalg.norm(tfidf, axis = 1, keepdims = True)\n",
    "    \n",
    "    # change the form of dataframe\n",
    "    tfidf = tfidf.T\n",
    "    tfidf.columns = ['tfidf']\n",
    "    return tfidf.sort_values(by='tfidf')\n",
    "\n",
    "def preprocessing(paragraphs):  # paragraphs : [\"문단1\", \"문단2\", ...]\n",
    "    \n",
    "    clean_paras = list(map(clean_text, paragraphs))\n",
    "    sentences = list(map(para2stc, clean_paras)) # sentences : [[\"문단1의 문장1\", \"문단1의 문장2\"], [\"문단2의 문장1\", ...], ...]\n",
    "    nouns_paras = list(map(get_nouns, clean_paras))\n",
    "    tfidf = cal_tfidf(nouns_paras)\n",
    "    return nouns_paras, tfidf, sentences\n",
    "    "
   ]
  },
  {
   "cell_type": "code",
   "execution_count": 10,
   "metadata": {},
   "outputs": [],
   "source": [
    "paragraphs = ld.read_txt(\"감초.txt\")     # [ 문단1, 문단2, ...]"
   ]
  },
  {
   "cell_type": "code",
   "execution_count": 21,
   "metadata": {},
   "outputs": [],
   "source": [
    "\n",
    "clean_paras = list(map(clean_text, paragraphs))\n",
    "clean_stcs = list(map(para2stcs, clean_paras))\n",
    "nouns_paras = list(map(get_nouns, clean_paras))\n",
    "nouns_stcs = list(map(get_stcs_nouns, clean_stcs))"
   ]
  },
  {
   "cell_type": "code",
   "execution_count": 22,
   "metadata": {},
   "outputs": [
    {
     "data": {
      "text/plain": [
       "[['쌍떡잎식물 장 미목 콩과 여러해살이풀',\n",
       "  '말 풀',\n",
       "  '우리 나라 아시아 감초 종 유럽 미국 우랄 감초 중국 감초 약재 유럽 미국 리 코리스 종',\n",
       "  '한국 민감 초 유럽 감초 약재 사탕 과자 생산',\n",
       "  '가지 종 감초 종 주의 필요',\n",
       "  '서양 리 코리스 이름 리큐르 어원',\n",
       "  '애초 리큐르 약용 술 의미 거 감초',\n",
       "  '뿌리 채취 한약재 감미료 등 사용',\n",
       "  '감초 안 약용 성분 다수 질환 효과',\n",
       "  '약방 감초 속담 정도',\n",
       "  '옛날 이야기 약방 아내 병자 감초 병',\n",
       "  '플라시보 효과 수 병 효과 뜻',\n",
       "  '감초 뿌리 옆 것 밑 것 이중 밑 것 약재 사용 옆 것 가을 채취 봄 등',\n",
       "  '약재 직접 효능 위장 보호 독성 중화',\n",
       "  '약재 독 중화 효능 완화 효능 배합 역할',\n",
       "  '맛 탕약 맛 역할',\n",
       "  '한방 약재 처방 때 비교',\n",
       "  '약방 감초 속담 이것 비유 것 필수 것 일 사람 때 감초',\n",
       "  '의학 감초 성질',\n",
       "  '재료 융합 시너지 효과 최대 한약 때 감초',\n",
       "  '종합 감초 부작용 것 부작용 경우 대부분 양 복용 기저 질환 동반 사례 한국 전문가 한의사 처 방하 일반 복용 수준 안전 것 의학 결론',\n",
       "  '일반인 임의 대량 장기간 복용 것 위험',\n",
       "  '감초 부작용 원인 글리시리진 제거 게',\n",
       "  '위장병 경우 식전 복용 효과',\n",
       "  '일반 사용 갈근탕 엑스 과립 제제 감초 포',\n",
       "  '포 복용 기준 일 수준',\n",
       "  '밀리그램 그램 차지 감초 글리시리진 산 분류 그램 밀리그램 가량',\n",
       "  '포 감초 규격 기준 땐 밀리그램 이 하루 포 기준 밀리그램 가량',\n",
       "  '한약 하루 글리시리진 산 그램 이상 섭취',\n",
       "  '일반 사용 갈근탕 엑스 과립 제제 감초 포',\n",
       "  '포 복용 기준 일 수준',\n",
       "  '밀리그램 그램 차지 감초 글리시리진 산 분류 그램 밀리그램 가량',\n",
       "  '포 감초 규격 기준 땐 밀리그램 이 하루 포 기준 밀리그램 가량',\n",
       "  '한약 하루 글리시리진 산 그램 이상 섭취',\n",
       "  '이 엑스 산제 한정 갈근탕 애초 감기 일 때 해열 한약재 복용 기간 탕제 최대 일 엑스 산제 경우 감초 포 상황 복용 기간 일 수준',\n",
       "  '일반 한약 방법 탕제 경우 갈근탕 일 기준 감초',\n",
       "  '일 동안 감초 이 하루',\n",
       "  '감초 과다 복용 가능',\n",
       "  '글리시리진 산 함량 재배 환경 함량 수 재배 환경 함량 것 특산품 분류 가격 천지 차이 나',\n",
       "  '글리시리진 산 사탕 배 단맛 나 상황 단맛 글리시리진 산 일 반약 용품 감초 이상 규격 정상 수준 맛 차이 나 섭취 가능',\n",
       "  '약용 목적 재배 감초 경우 과도 글리시리진 산 함량 조절 노력 농가 차원',\n",
       "  '한국 한약 사용 감초 대부분 차지 만주 감초 평균 글리시리진 산 함량 기사 함량 미달 한약재 조사 필요 상황',\n",
       "  '약용 제품 사용 감초 단맛 때문 식품 사용 감초 애초 농가 취급',\n",
       "  '글리시리진 산 함량 차원 제품 애초 용력 상실 감초 이 식품 등 용도 구분 가격 차이',\n",
       "  '약재 재수 입사 처 검증 것 일반 농민 의원 것',\n",
       "  '감초 규제 철저',\n",
       "  '약품 등 품목 허가 신고 심사 규정 중 생약 한약 관련 설서 비중 알코올 함량 건조 감량 회분 엑스 함량 등 기준 선 규정 실측 통계 이하 등 조치 공시 때문',\n",
       "  '한마디 감초 뭘 유효 성분 기재 함량 표시 때 실측 통계 것 해당 유효 성분 함량 기재',\n",
       "  '의학 법제 국내 감초 부작용 사례 건 기저 질환 동반 일 반인 임의 대량 장기간 복용 경우']]"
      ]
     },
     "execution_count": 22,
     "metadata": {},
     "output_type": "execute_result"
    }
   ],
   "source": [
    "nouns_stcs"
   ]
  },
  {
   "cell_type": "code",
   "execution_count": 60,
   "metadata": {},
   "outputs": [
    {
     "name": "stderr",
     "output_type": "stream",
     "text": [
      "c:\\Users\\ASUS\\anaconda3\\envs\\intern\\lib\\site-packages\\sklearn\\utils\\deprecation.py:87: FutureWarning: Function get_feature_names is deprecated; get_feature_names is deprecated in 1.0 and will be removed in 1.2. Please use get_feature_names_out instead.\n",
      "  warnings.warn(msg, category=FutureWarning)\n"
     ]
    }
   ],
   "source": [
    "tfidf = cal_tfidf(nouns_paras)"
   ]
  }
 ],
 "metadata": {
  "kernelspec": {
   "display_name": "Python 3.8.13 ('intern')",
   "language": "python",
   "name": "python3"
  },
  "language_info": {
   "codemirror_mode": {
    "name": "ipython",
    "version": 3
   },
   "file_extension": ".py",
   "mimetype": "text/x-python",
   "name": "python",
   "nbconvert_exporter": "python",
   "pygments_lexer": "ipython3",
   "version": "3.8.13"
  },
  "orig_nbformat": 4,
  "vscode": {
   "interpreter": {
    "hash": "f666b51e4c91b6d33cc19273ce20cae41340034cef2327fe5518cc0bbc8d0f33"
   }
  }
 },
 "nbformat": 4,
 "nbformat_minor": 2
}
