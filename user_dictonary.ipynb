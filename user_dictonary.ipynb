{
 "cells": [
  {
   "cell_type": "code",
   "execution_count": 6,
   "metadata": {},
   "outputs": [
    {
     "data": {
      "text/plain": [
       "['대우,,,,NNP,*,F,대우,*,*,*,*,*\\n',\n",
       " '구글,,,,NNP,*,T,구글,*,*,*,*,*\\n',\n",
       " '이뇨작용,,,,NNP,*,T,이뇨작용,*,*,*,*,*\\n',\n",
       " '데아닌,,,,NNP,*,T,데아닌,*,*,*,*,*\\n',\n",
       " '알파파,,,,NNP,*,F,알파파,*,*,*,*,*\\n',\n",
       " '카테킨,,,,NNP,*,T,카테킨,*,*,*,*,*\\n',\n",
       " '유로키나제,,,,NNP,*,F,유로키나제,*,*,*,*,*\\n',\n",
       " '폴리페놀,,,,NNP,*,T,폴리페놀,*,*,*,*,*\\n',\n",
       " '테아플라빈,,,,NNP,*,T,테아플라빈,*,*,*,*,*\\n',\n",
       " '플라반올,,,,NNP,*,T,플라반올,*,*,*,*,*\\n',\n",
       " '화학물질,,,,NNP,*,T,화학물질,*,*,*,*,*\\n',\n",
       " '카테친,,,,NNP,*,T,카테친,*,*,*,*,*\\n',\n",
       " '암세포,,,,NNP,*,F,암세포,*,*,*,*,*\\n',\n",
       " '통계학연구원,,,,NNP,*,T,통계학연구원,*,*,*,*,*\\n',\n",
       " '수학과,,,,NNP,*,F,수학과,*,*,*,*,*\\n',\n",
       " '통계학과,,,,NNP,*,F,통계학과,*,*,*,*,*\\n',\n",
       " '통계학과,,,,NNP,*,F,통계학과,*,*,*,*,*\\n',\n",
       " '공통수학1,,,,NNP,*,F,공통수학1,*,*,*,*,*\\n',\n",
       " '공통수학2,,,,NNP,*,F,공통수학2,*,*,*,*,*\\n',\n",
       " '기본수학1,,,,NNP,*,F,기본수학1,*,*,*,*,*\\n',\n",
       " '기본수학2,,,,NNP,*,F,기본수학2,*,*,*,*,*\\n',\n",
       " '대수,,,,NNP,*,F,대수,*,*,*,*,*\\n',\n",
       " '미적분Ⅰ,,,,NNP,*,F,미적분Ⅰ,*,*,*,*,*\\n',\n",
       " '확률과 통계,,,,NNP,*,F,확률과 통계,*,*,*,*,*\\n',\n",
       " '기하,,,,NNP,*,F,기하,*,*,*,*,*\\n',\n",
       " '경제 수학,,,,NNP,*,F,경제 수학,*,*,*,*,*\\n',\n",
       " '인공지능 수학,,,,NNP,*,F,인공지능 수학,*,*,*,*,*\\n',\n",
       " '직무 수학,,,,NNP,*,F,직무 수학,*,*,*,*,*\\n',\n",
       " '수학과 문화,,,,NNP,*,F,수학과 문화,*,*,*,*,*\\n',\n",
       " '실용 통계,,,,NNP,*,F,실용 통계,*,*,*,*,*\\n',\n",
       " '수학과제 탐구,,,,NNP,*,F,수학과제 탐구,*,*,*,*,*\\n']"
      ]
     },
     "execution_count": 6,
     "metadata": {},
     "output_type": "execute_result"
    }
   ],
   "source": [
    "with open(\"C:/mecab/user-dic/nnp.csv\", 'r', encoding='utf-8') as f: \n",
    "    file_data = f.readlines()\n",
    "file_data"
   ]
  },
  {
   "cell_type": "code",
   "execution_count": 4,
   "metadata": {},
   "outputs": [],
   "source": [
    "#file_data.append('통계학연구원,,,,NNP,*,T,통계학연구원,*,*,*,*,*\\n')   \n",
    "#file_data.append('수학과,,,,NNP,*,F,수학과,*,*,*,*,*\\n')   \n",
    "#file_data.append('통계학과,,,,NNP,*,F,통계학과,*,*,*,*,*\\n')  \n",
    "#file_data.append('공통수학1,,,,NNP,*,F,공통수학1,*,*,*,*,*\\n')  \n",
    "#file_data.append('공통수학2,,,,NNP,*,F,공통수학2,*,*,*,*,*\\n')  \n",
    "#file_data.append('기본수학1,,,,NNP,*,F,기본수학1,*,*,*,*,*\\n')  \n",
    "#file_data.append('기본수학2,,,,NNP,*,F,기본수학2,*,*,*,*,*\\n')  \n",
    "#file_data.append('대수,,,,NNP,*,F,대수,*,*,*,*,*\\n')  \n",
    "#file_data.append('미적분Ⅰ,,,,NNP,*,F,미적분Ⅰ,*,*,*,*,*\\n')  \n",
    "#file_data.append('확률과 통계,,,,NNP,*,F,확률과 통계,*,*,*,*,*\\n')  \n",
    "#file_data.append('기하,,,,NNP,*,F,기하,*,*,*,*,*\\n')  \n",
    "#file_data.append('경제 수학,,,,NNP,*,F,경제 수학,*,*,*,*,*\\n')  \n",
    "#file_data.append('인공지능 수학,,,,NNP,*,F,인공지능 수학,*,*,*,*,*\\n')  \n",
    "#file_data.append('직무 수학,,,,NNP,*,F,직무 수학,*,*,*,*,*\\n')  \n",
    "#file_data.append('수학과 문화,,,,NNP,*,F,수학과 문화,*,*,*,*,*\\n')  \n",
    "#file_data.append('실용 통계,,,,NNP,*,F,실용 통계,*,*,*,*,*\\n')  \n",
    "#file_data.append('수학과제 탐구,,,,NNP,*,F,수학과제 탐구,*,*,*,*,*\\n')  \n"
   ]
  },
  {
   "cell_type": "code",
   "execution_count": 5,
   "metadata": {},
   "outputs": [],
   "source": [
    "with open(\"C:/mecab/user-dic/nnp.csv\", 'w', encoding='utf-8') as f: \n",
    "    for line in file_data: \n",
    "        f.write(line)"
   ]
  },
  {
   "attachments": {},
   "cell_type": "markdown",
   "metadata": {},
   "source": [
    ".\\tools\\add-userdic-win.ps1\n",
    "\n",
    "위에거 powershell 보안 오류시 아래거 실행\n",
    "Set-ExecutionPolicy Unrestricted"
   ]
  },
  {
   "cell_type": "code",
   "execution_count": 2,
   "metadata": {},
   "outputs": [
    {
     "data": {
      "text/plain": [
       "['대우,1786,3545,3821,NNP,*,F,대우,*,*,*,*,*\\n',\n",
       " '구글,1786,3546,2953,NNP,*,T,구글,*,*,*,*,*\\n',\n",
       " '이뇨작용,1786,3546,2953,NNP,*,T,이뇨작용,*,*,*,*,*\\n',\n",
       " '데아닌,1786,3546,2953,NNP,*,T,데아닌,*,*,*,*,*\\n',\n",
       " '알파파,1786,3545,2953,NNP,*,F,알파파,*,*,*,*,*\\n',\n",
       " '카테킨,1786,3546,2953,NNP,*,T,카테킨,*,*,*,*,*\\n',\n",
       " '유로키나제,1786,3545,2953,NNP,*,F,유로키나제,*,*,*,*,*\\n',\n",
       " '폴리페놀,1786,3546,2953,NNP,*,T,폴리페놀,*,*,*,*,*\\n',\n",
       " '테아플라빈,1786,3546,2953,NNP,*,T,테아플라빈,*,*,*,*,*\\n',\n",
       " '플라반올,1786,3546,2953,NNP,*,T,플라반올,*,*,*,*,*\\n',\n",
       " '화학물질,1786,3546,2953,NNP,*,T,화학물질,*,*,*,*,*\\n',\n",
       " '카테친,1786,3546,2953,NNP,*,T,카테친,*,*,*,*,*\\n',\n",
       " '암세포,1786,3545,2953,NNP,*,F,암세포,*,*,*,*,*\\n',\n",
       " '통계학연구원,1786,3546,2953,NNP,*,T,통계학연구원,*,*,*,*,*\\n',\n",
       " '수학과,1786,3545,2282,NNP,*,F,수학과,*,*,*,*,*\\n',\n",
       " '통계학과,1786,3545,2953,NNP,*,F,통계학과,*,*,*,*,*\\n']"
      ]
     },
     "execution_count": 2,
     "metadata": {},
     "output_type": "execute_result"
    }
   ],
   "source": [
    "with open(\"C:/mecab/mecab-ko-dic/user-nnp.csv\", 'r', encoding='utf-8') as f: \n",
    "    file_data = f.readlines()\n",
    "file_data"
   ]
  },
  {
   "cell_type": "code",
   "execution_count": 3,
   "metadata": {},
   "outputs": [],
   "source": [
    "file_data[0] = '대우,1786,3545,3821,NNP,*,F,대우,*,*,*,*,*\\n'\n",
    "file_data[1] = '구글,1786,3546,2953,NNP,*,T,구글,*,*,*,*,*\\n'\n",
    "file_data[2] = '이뇨작용,1786,3546,0,NNP,*,T,이뇨작용,*,*,*,*,*\\n'\n",
    "file_data[3] = '데아닌,1786,3546,0,NNP,*,T,데아닌,*,*,*,*,*\\n'\n",
    "file_data[4] = '알파파,1786,3545,2953,NNP,*,F,알파파,*,*,*,*,*\\n'\n",
    "file_data[5] = '카테킨,1786,3546,0,NNP,*,T,카테킨,*,*,*,*,*\\n'\n",
    "file_data[6] = '유로키나제,1786,3545,0,NNP,*,F,유로키나제,*,*,*,*,*\\n'\n",
    "file_data[7] = '폴리페놀,1786,3546,0,NNP,*,T,폴리페놀,*,*,*,*,*\\n'\n",
    "file_data[8] = '테아플라빈,1786,3546,0,NNP,*,T,테아플라빈,*,*,*,*,*\\n'\n",
    "file_data[9] = '플라반올,1786,3546,0,NNP,*,T,플라반올,*,*,*,*,*\\n'\n",
    "file_data[10] = '화학물질,1786,3546,0,NNP,*,T,화학물질,*,*,*,*,*\\n'\n",
    "file_data[11] = '카테친,1786,3546,0,NNP,*,T,카테친,*,*,*,*,*\\n'\n",
    "file_data[12] = '암세포,1786,3546,0,NNP,*,F,암세포,*,*,*,*,*\\n'\n",
    "file_data[13] = '통계학연구원,1786,3546,0,NNP,*,T,통계학연구원,*,*,*,*,*\\n'\n",
    "file_data[14] = '수학과,1786,3545,0,NNP,*,F,수학과,*,*,*,*,*\\n'\n",
    "file_data[15] = '통계학과,1786,3545,0,NNP,*,F,통계학과,*,*,*,*,*\\n'\n"
   ]
  },
  {
   "cell_type": "code",
   "execution_count": 4,
   "metadata": {},
   "outputs": [
    {
     "data": {
      "text/plain": [
       "['대우,1786,3545,3821,NNP,*,F,대우,*,*,*,*,*\\n',\n",
       " '구글,1786,3546,2953,NNP,*,T,구글,*,*,*,*,*\\n',\n",
       " '이뇨작용,1786,3546,0,NNP,*,T,이뇨작용,*,*,*,*,*\\n',\n",
       " '데아닌,1786,3546,0,NNP,*,T,데아닌,*,*,*,*,*\\n',\n",
       " '알파파,1786,3545,2953,NNP,*,F,알파파,*,*,*,*,*\\n',\n",
       " '카테킨,1786,3546,0,NNP,*,T,카테킨,*,*,*,*,*\\n',\n",
       " '유로키나제,1786,3545,0,NNP,*,F,유로키나제,*,*,*,*,*\\n',\n",
       " '폴리페놀,1786,3546,0,NNP,*,T,폴리페놀,*,*,*,*,*\\n',\n",
       " '테아플라빈,1786,3546,0,NNP,*,T,테아플라빈,*,*,*,*,*\\n',\n",
       " '플라반올,1786,3546,0,NNP,*,T,플라반올,*,*,*,*,*\\n',\n",
       " '화학물질,1786,3546,0,NNP,*,T,화학물질,*,*,*,*,*\\n',\n",
       " '카테친,1786,3546,0,NNP,*,T,카테친,*,*,*,*,*\\n',\n",
       " '암세포,1786,3546,0,NNP,*,F,암세포,*,*,*,*,*\\n',\n",
       " '통계학연구원,1786,3546,0,NNP,*,T,통계학연구원,*,*,*,*,*\\n',\n",
       " '수학과,1786,3545,0,NNP,*,F,수학과,*,*,*,*,*\\n',\n",
       " '통계학과,1786,3545,0,NNP,*,F,통계학과,*,*,*,*,*\\n']"
      ]
     },
     "execution_count": 4,
     "metadata": {},
     "output_type": "execute_result"
    }
   ],
   "source": [
    "with open(\"C:/mecab/mecab-ko-dic/user-nnp.csv\", 'w', encoding='utf-8') as f: \n",
    "    for line in file_data: \n",
    "        f.write(line)\n",
    "with open(\"C:/mecab/mecab-ko-dic/user-nnp.csv\", 'r', encoding='utf-8') as f: \n",
    "    file_data = f.readlines()\n",
    "file_data"
   ]
  },
  {
   "cell_type": "markdown",
   "metadata": {},
   "source": [
    ".\\tools\\compile-win.ps1"
   ]
  },
  {
   "cell_type": "code",
   "execution_count": 1,
   "metadata": {},
   "outputs": [
    {
     "data": {
      "text/plain": [
       "['카테친', '폴리페놀', ',', '통계학', '연구원', '통계학연구원', '수학과']"
      ]
     },
     "execution_count": 1,
     "metadata": {},
     "output_type": "execute_result"
    }
   ],
   "source": [
    "from eunjeon import Mecab\n",
    "mecab = Mecab('C:\\mecab\\mecab-ko-dic')\n",
    "mecab.morphs(\"카테친 폴리페놀, 통계학 연구원 통계학연구원 수학과\")"
   ]
  }
 ],
 "metadata": {
  "kernelspec": {
   "display_name": "intern",
   "language": "python",
   "name": "python3"
  },
  "language_info": {
   "codemirror_mode": {
    "name": "ipython",
    "version": 3
   },
   "file_extension": ".py",
   "mimetype": "text/x-python",
   "name": "python",
   "nbconvert_exporter": "python",
   "pygments_lexer": "ipython3",
   "version": "3.7.15 (default, Nov 24 2022, 18:44:54) [MSC v.1916 64 bit (AMD64)]"
  },
  "orig_nbformat": 4,
  "vscode": {
   "interpreter": {
    "hash": "4bda465b0c0f4373fd832dca9e07aed9239ae67d82371da6321f7ca13fbd16af"
   }
  }
 },
 "nbformat": 4,
 "nbformat_minor": 2
}
