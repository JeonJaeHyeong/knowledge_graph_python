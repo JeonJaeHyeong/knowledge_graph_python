{
 "cells": [
  {
   "cell_type": "code",
   "execution_count": 1,
   "metadata": {},
   "outputs": [
    {
     "data": {
      "text/plain": [
       "['대우,,,,NNP,*,F,대우,*,*,*,*,*\\n',\n",
       " '구글,,,,NNP,*,T,구글,*,*,*,*,*\\n',\n",
       " '이뇨작용,,,,NNP,*,T,이뇨작용,*,*,*,*,*\\n',\n",
       " '데아닌,,,,NNP,*,T,데아닌,*,*,*,*,*\\n',\n",
       " '알파파,,,,NNP,*,F,알파파,*,*,*,*,*\\n',\n",
       " '카테킨,,,,NNP,*,T,카테킨,*,*,*,*,*\\n',\n",
       " '유로키나제,,,,NNP,*,F,유로키나제,*,*,*,*,*\\n',\n",
       " '폴리페놀,,,,NNP,*,T,폴리페놀,*,*,*,*,*\\n',\n",
       " '테아플라빈,,,,NNP,*,T,테아플라빈,*,*,*,*,*\\n',\n",
       " '플라반올,,,,NNP,*,T,플라반올,*,*,*,*,*\\n',\n",
       " '화학물질,,,,NNP,*,T,화학물질,*,*,*,*,*\\n',\n",
       " '카테친,,,,NNP,*,T,카테친,*,*,*,*,*\\n',\n",
       " '암세포,,,,NNP,*,F,암세포,*,*,*,*,*\\n']"
      ]
     },
     "execution_count": 1,
     "metadata": {},
     "output_type": "execute_result"
    }
   ],
   "source": [
    "with open(\"C:/mecab/user-dic/nnp.csv\", 'r', encoding='utf-8') as f: \n",
    "    file_data = f.readlines()\n",
    "file_data"
   ]
  },
  {
   "cell_type": "code",
   "execution_count": 2,
   "metadata": {},
   "outputs": [],
   "source": [
    "#file_data.append('이뇨작용,,,,NNP,*,T,이뇨작용,*,*,*,*,*\\n')    \n",
    "#file_data.append('데아닌,,,,NNP,*,T,데아닌,*,*,*,*,*\\n')    \n",
    "#file_data.append('알파파,,,,NNP,*,F,알파파,*,*,*,*,*\\n')    \n",
    "#file_data.append('카테킨,,,,NNP,*,T,카테킨,*,*,*,*,*\\n')    \n",
    "#file_data.append('유로키나제,,,,NNP,*,F,유로키나제,*,*,*,*,*\\n')    \n",
    "#file_data.append('폴리페놀,,,,NNP,*,T,폴리페놀,*,*,*,*,*\\n')    \n",
    "#file_data.append('테아플라빈,,,,NNP,*,T,테아플라빈,*,*,*,*,*\\n')    \n",
    "#file_data.append('플라반올,,,,NNP,*,T,플라반올,*,*,*,*,*\\n')    \n",
    "#file_data.append('화학물질,,,,NNP,*,T,화학물질,*,*,*,*,*\\n')    \n",
    "#file_data.append('카테친,,,,NNP,*,T,카테친,*,*,*,*,*\\n')   \n",
    "#file_data.append('암세포,,,,NNP,*,F,암세포,*,*,*,*,*\\n')   \n"
   ]
  },
  {
   "cell_type": "code",
   "execution_count": 3,
   "metadata": {},
   "outputs": [],
   "source": [
    "with open(\"C:/mecab/user-dic/nnp.csv\", 'w', encoding='utf-8') as f: \n",
    "    for line in file_data: \n",
    "        f.write(line)"
   ]
  },
  {
   "attachments": {},
   "cell_type": "markdown",
   "metadata": {},
   "source": [
    ".\\tools\\add-userdic-win.ps1\n",
    "\n",
    "위에거 powershell 보안 오류시 아래거 실행\n",
    "Set-ExecutionPolicy Unrestricted"
   ]
  },
  {
   "cell_type": "code",
   "execution_count": 2,
   "metadata": {},
   "outputs": [
    {
     "data": {
      "text/plain": [
       "['대우,1786,3545,3821,NNP,*,F,대우,*,*,*,*,*\\n',\n",
       " '구글,1786,3546,2953,NNP,*,T,구글,*,*,*,*,*\\n',\n",
       " '이뇨작용,1786,3546,2953,NNP,*,T,이뇨작용,*,*,*,*,*\\n',\n",
       " '데아닌,1786,3546,2953,NNP,*,T,데아닌,*,*,*,*,*\\n',\n",
       " '알파파,1786,3545,2953,NNP,*,F,알파파,*,*,*,*,*\\n',\n",
       " '카테킨,1786,3546,2953,NNP,*,T,카테킨,*,*,*,*,*\\n',\n",
       " '유로키나제,1786,3545,2953,NNP,*,F,유로키나제,*,*,*,*,*\\n',\n",
       " '폴리페놀,1786,3546,2953,NNP,*,T,폴리페놀,*,*,*,*,*\\n',\n",
       " '테아플라빈,1786,3546,2953,NNP,*,T,테아플라빈,*,*,*,*,*\\n',\n",
       " '플라반올,1786,3546,2953,NNP,*,T,플라반올,*,*,*,*,*\\n',\n",
       " '화학물질,1786,3546,2953,NNP,*,T,화학물질,*,*,*,*,*\\n',\n",
       " '카테친,1786,3546,2953,NNP,*,T,카테친,*,*,*,*,*\\n',\n",
       " '암세포,1786,3545,2953,NNP,*,F,암세포,*,*,*,*,*\\n']"
      ]
     },
     "execution_count": 2,
     "metadata": {},
     "output_type": "execute_result"
    }
   ],
   "source": [
    "with open(\"C:/mecab/mecab-ko-dic/user-nnp.csv\", 'r', encoding='utf-8') as f: \n",
    "    file_data = f.readlines()\n",
    "file_data"
   ]
  },
  {
   "cell_type": "code",
   "execution_count": 3,
   "metadata": {},
   "outputs": [],
   "source": [
    "file_data[0] = '대우,1786,3545,3821,NNP,*,F,대우,*,*,*,*,*\\n'\n",
    "file_data[1] = '구글,1786,3546,2953,NNP,*,T,구글,*,*,*,*,*\\n'\n",
    "file_data[2] = '이뇨작용,1786,3546,0,NNP,*,T,이뇨작용,*,*,*,*,*\\n'\n",
    "file_data[3] = '데아닌,1786,3546,0,NNP,*,T,데아닌,*,*,*,*,*\\n'\n",
    "file_data[4] = '알파파,1786,3545,2953,NNP,*,F,알파파,*,*,*,*,*\\n'\n",
    "file_data[5] = '카테킨,1786,3546,0,NNP,*,T,카테킨,*,*,*,*,*\\n'\n",
    "file_data[6] = '유로키나제,1786,3545,0,NNP,*,F,유로키나제,*,*,*,*,*\\n'\n",
    "file_data[7] = '폴리페놀,1786,3546,0,NNP,*,T,폴리페놀,*,*,*,*,*\\n'\n",
    "file_data[8] = '테아플라빈,1786,3546,0,NNP,*,T,테아플라빈,*,*,*,*,*\\n'\n",
    "file_data[9] = '플라반올,1786,3546,0,NNP,*,T,플라반올,*,*,*,*,*\\n'\n",
    "file_data[10] = '화학물질,1786,3546,0,NNP,*,T,화학물질,*,*,*,*,*\\n'\n",
    "file_data[11] = '카테친,1786,3546,0,NNP,*,T,카테친,*,*,*,*,*\\n'\n",
    "file_data[12] = '암세포,1786,3546,0,NNP,*,F,암세포,*,*,*,*,*\\n'\n"
   ]
  },
  {
   "cell_type": "code",
   "execution_count": 4,
   "metadata": {},
   "outputs": [
    {
     "data": {
      "text/plain": [
       "['대우,1786,3545,3821,NNP,*,F,대우,*,*,*,*,*\\n',\n",
       " '구글,1786,3546,2953,NNP,*,T,구글,*,*,*,*,*\\n',\n",
       " '이뇨작용,1786,3546,0,NNP,*,T,이뇨작용,*,*,*,*,*\\n',\n",
       " '데아닌,1786,3546,0,NNP,*,T,데아닌,*,*,*,*,*\\n',\n",
       " '알파파,1786,3545,2953,NNP,*,F,알파파,*,*,*,*,*\\n',\n",
       " '카테킨,1786,3546,0,NNP,*,T,카테킨,*,*,*,*,*\\n',\n",
       " '유로키나제,1786,3545,0,NNP,*,F,유로키나제,*,*,*,*,*\\n',\n",
       " '폴리페놀,1786,3546,0,NNP,*,T,폴리페놀,*,*,*,*,*\\n',\n",
       " '테아플라빈,1786,3546,0,NNP,*,T,테아플라빈,*,*,*,*,*\\n',\n",
       " '플라반올,1786,3546,0,NNP,*,T,플라반올,*,*,*,*,*\\n',\n",
       " '화학물질,1786,3546,0,NNP,*,T,화학물질,*,*,*,*,*\\n',\n",
       " '카테친,1786,3546,0,NNP,*,T,카테친,*,*,*,*,*\\n',\n",
       " '암세포,1786,3546,0,NNP,*,F,암세포,*,*,*,*,*\\n']"
      ]
     },
     "execution_count": 4,
     "metadata": {},
     "output_type": "execute_result"
    }
   ],
   "source": [
    "with open(\"C:/mecab/mecab-ko-dic/user-nnp.csv\", 'w', encoding='utf-8') as f: \n",
    "    for line in file_data: \n",
    "        f.write(line)\n",
    "with open(\"C:/mecab/mecab-ko-dic/user-nnp.csv\", 'r', encoding='utf-8') as f: \n",
    "    file_data = f.readlines()\n",
    "file_data"
   ]
  },
  {
   "cell_type": "markdown",
   "metadata": {},
   "source": [
    ".\\tools\\compile-win.ps1"
   ]
  },
  {
   "cell_type": "code",
   "execution_count": 5,
   "metadata": {},
   "outputs": [
    {
     "data": {
      "text/plain": [
       "['카테친', '폴리페놀']"
      ]
     },
     "execution_count": 5,
     "metadata": {},
     "output_type": "execute_result"
    }
   ],
   "source": [
    "from eunjeon import Mecab\n",
    "mecab = Mecab('C:\\mecab\\mecab-ko-dic')\n",
    "mecab.morphs(\"카테친 폴리페놀\")"
   ]
  }
 ],
 "metadata": {
  "kernelspec": {
   "display_name": "intern",
   "language": "python",
   "name": "python3"
  },
  "language_info": {
   "codemirror_mode": {
    "name": "ipython",
    "version": 3
   },
   "file_extension": ".py",
   "mimetype": "text/x-python",
   "name": "python",
   "nbconvert_exporter": "python",
   "pygments_lexer": "ipython3",
   "version": "3.7.15"
  },
  "orig_nbformat": 4,
  "vscode": {
   "interpreter": {
    "hash": "ab8178795d209fe6f8c480747020b354c1ed40d0caa3951d433cab5a4589dbf0"
   }
  }
 },
 "nbformat": 4,
 "nbformat_minor": 2
}
