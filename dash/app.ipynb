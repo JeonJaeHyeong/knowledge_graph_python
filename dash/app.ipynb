{
 "cells": [
  {
   "cell_type": "code",
   "execution_count": null,
   "metadata": {},
   "outputs": [],
   "source": []
  }
 ],
 "metadata": {
  "kernelspec": {
   "display_name": "Python 3.8.13 ('intern')",
   "language": "python",
   "name": "python3"
  },
  "language_info": {
   "name": "python",
   "version": "3.8.13"
  },
  "orig_nbformat": 4,
  "vscode": {
   "interpreter": {
    "hash": "f666b51e4c91b6d33cc19273ce20cae41340034cef2327fe5518cc0bbc8d0f33"
   }
  }
 },
 "nbformat": 4,
 "nbformat_minor": 2
}
